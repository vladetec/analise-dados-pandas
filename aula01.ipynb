{
  "nbformat": 4,
  "nbformat_minor": 0,
  "metadata": {
    "anaconda-cloud": {},
    "kernelspec": {
      "display_name": "Python 3",
      "language": "python",
      "name": "python3"
    },
    "language_info": {
      "codemirror_mode": {
        "name": "ipython",
        "version": 3
      },
      "file_extension": ".py",
      "mimetype": "text/x-python",
      "name": "python",
      "nbconvert_exporter": "python",
      "pygments_lexer": "ipython3",
      "version": "3.6.5"
    },
    "colab": {
      "name": "aula01.ipynb",
      "provenance": [],
      "collapsed_sections": []
    }
  },
  "cells": [
    {
      "cell_type": "markdown",
      "metadata": {
        "id": "GFJ4EVNomx-9",
        "colab_type": "text"
      },
      "source": [
        "## **Semana de Data Science**\n",
        "\n",
        "- Minerando Dados"
      ]
    },
    {
      "cell_type": "markdown",
      "metadata": {
        "id": "4vhNe3CadOcI",
        "colab_type": "text"
      },
      "source": [
        "### Conhecendo a base de dados"
      ]
    },
    {
      "cell_type": "markdown",
      "metadata": {
        "id": "UIKcG9cuf73S",
        "colab_type": "text"
      },
      "source": [
        "Monta o drive"
      ]
    },
    {
      "cell_type": "code",
      "metadata": {
        "id": "Pra_pLjfAW3d",
        "colab_type": "code",
        "colab": {}
      },
      "source": [
        "from google.colab import drive\n",
        "drive.mount('/content/drive')"
      ],
      "execution_count": 0,
      "outputs": []
    },
    {
      "cell_type": "markdown",
      "metadata": {
        "id": "LpI7iiKFVv85",
        "colab_type": "text"
      },
      "source": [
        "Importando as bibliotecas básicas"
      ]
    },
    {
      "cell_type": "code",
      "metadata": {
        "id": "KrCFI6wjVy8r",
        "colab_type": "code",
        "colab": {}
      },
      "source": [
        "import pandas as pd\n",
        "import seaborn as sns\n",
        "import numpy as np\n",
        "import matplotlib.pyplot as plt"
      ],
      "execution_count": 0,
      "outputs": []
    },
    {
      "cell_type": "markdown",
      "metadata": {
        "id": "pN6MI_aOdLkK",
        "colab_type": "text"
      },
      "source": [
        "Carregando a Base de Dados"
      ]
    },
    {
      "cell_type": "code",
      "metadata": {
        "id": "fH08VuIvDYqC",
        "colab_type": "code",
        "colab": {}
      },
      "source": [
        "# carrega o dataset de boston\n",
        "from sklearn.datasets import load_boston\n",
        "boston = load_boston()"
      ],
      "execution_count": 0,
      "outputs": []
    },
    {
      "cell_type": "code",
      "metadata": {
        "id": "vdncFGtm9EZe",
        "colab_type": "code",
        "colab": {}
      },
      "source": [
        "# descrição do dataset\n",
        "print (boston.DESCR)"
      ],
      "execution_count": 0,
      "outputs": []
    },
    {
      "cell_type": "code",
      "metadata": {
        "id": "e1d1cfElD_aD",
        "colab_type": "code",
        "colab": {}
      },
      "source": [
        "# cria um dataframe pandas\n",
        "data = pd.DataFrame(boston.data, columns=boston.feature_names)"
      ],
      "execution_count": 0,
      "outputs": []
    },
    {
      "cell_type": "code",
      "metadata": {
        "id": "j7nqnckSVqip",
        "colab_type": "code",
        "colab": {}
      },
      "source": [
        "# imprime as 5 primeiras linhas do dataset\n",
        "data.head()"
      ],
      "execution_count": 0,
      "outputs": []
    },
    {
      "cell_type": "code",
      "metadata": {
        "id": "bZs1pL9J-obe",
        "colab_type": "code",
        "colab": {}
      },
      "source": [
        "# escreve o arquivo para o disco\n",
        "data.to_csv('data.csv')"
      ],
      "execution_count": 0,
      "outputs": []
    },
    {
      "cell_type": "markdown",
      "metadata": {
        "id": "QwLW2ovTV4lh",
        "colab_type": "text"
      },
      "source": [
        "Conhecendo as colunas da base de dados"
      ]
    },
    {
      "cell_type": "markdown",
      "metadata": {
        "id": "LwFL9EDhAWzQ",
        "colab_type": "text"
      },
      "source": [
        "**`CRIM`**: Taxa de criminalidade per capita por regiao.\n",
        "\n",
        "**`ZN`**: Proporção de terrenos residenciais divididos por lotes com mais de 25.000 pés quadrados.\n",
        "\n",
        "**`INDUS`**: Essa é a proporção de hectares de negócios não comerciais por regiao.\n",
        "\n",
        "**`CHAS`**: variável fictícia Charles River (= 1 se o trecho limita o rio; 0 caso contrário)\n",
        "\n",
        "**`NOX`**: concentração de óxido nítrico (partes por 10 milhões)\n",
        "\n",
        "**`RM`**: Número médio de quartos entre as casas do bairro\n",
        "\n",
        "**`Age`**: proporção de unidades ocupadas pelos proprietários construídas antes de 1940\n",
        "\n",
        "**`DIS`**: distâncias ponderadas para cinco centros de emprego em Boston\n",
        "\n",
        "**`RAD`**: Índice de acessibilidade às rodovias radiais\n",
        "\n",
        "**`IMPOSTO`**: taxa do imposto sobre a propriedade de valor total por US $ 10.000\n",
        "\n",
        "**`B`**: 1000 (Bk - 0,63) ², onde Bk é a proporção de pessoas de descendência afro-americana por regiao\n",
        "\n",
        "**`PTRATIO`**: Bairros com maior proporção de alunos para professores (maior valor de 'PTRATIO')\n",
        "\n",
        "**`LSTAT`**: porcentagem de status mais baixo da população\n",
        "\n",
        "**`MEDV`**: valor médio de casas ocupadas pelos proprietários em US $ 1000"
      ]
    },
    {
      "cell_type": "markdown",
      "metadata": {
        "id": "2DqDhU9Gdkme",
        "colab_type": "text"
      },
      "source": [
        "Adicionando a coluna que será nossa variável alvo"
      ]
    },
    {
      "cell_type": "code",
      "metadata": {
        "id": "WaGqRi0vElWS",
        "colab_type": "code",
        "colab": {}
      },
      "source": [
        "# adiciona a variável MEDV\n",
        "data['MEDV'] = boston.target"
      ],
      "execution_count": 0,
      "outputs": []
    },
    {
      "cell_type": "code",
      "metadata": {
        "id": "IyvcTctWCkfH",
        "colab_type": "code",
        "colab": {}
      },
      "source": [
        "# imprime as 5 primeiras linhas do dataframe\n",
        "data.head()"
      ],
      "execution_count": 0,
      "outputs": []
    },
    {
      "cell_type": "code",
      "metadata": {
        "id": "YEf9q6l4uVmJ",
        "colab_type": "code",
        "colab": {}
      },
      "source": [
        "data.describe()"
      ],
      "execution_count": 0,
      "outputs": []
    },
    {
      "cell_type": "markdown",
      "metadata": {
        "id": "sZnu3djs_vjJ",
        "colab_type": "text"
      },
      "source": [
        "## Análise e Exploração dos Dados\n",
        "\n"
      ]
    },
    {
      "cell_type": "markdown",
      "metadata": {
        "id": "IPGHUiAem8LL",
        "colab_type": "text"
      },
      "source": [
        "Nesta etapa nosso objetivo é conhecer os dados que estamos trabalhando.\n",
        "\n",
        "Podemos a ferramenta **Pandas Profiling** para essa etapa:"
      ]
    },
    {
      "cell_type": "code",
      "metadata": {
        "id": "Nu0SgG1CZhmV",
        "colab_type": "code",
        "colab": {}
      },
      "source": [
        "# instalando o pandas profiling\n",
        "!pip install https://github.com/pandas-profiling/pandas-profiling/archive/master.zip"
      ],
      "execution_count": 0,
      "outputs": []
    },
    {
      "cell_type": "code",
      "metadata": {
        "id": "OGrLb3EXZwki",
        "colab_type": "code",
        "colab": {}
      },
      "source": [
        "# import o ProfileReport\n",
        "from pandas_profiling import ProfileReport"
      ],
      "execution_count": 0,
      "outputs": []
    },
    {
      "cell_type": "code",
      "metadata": {
        "id": "8nebQr41Zwgx",
        "colab_type": "code",
        "colab": {}
      },
      "source": [
        "# executando o profile\n",
        "profile = ProfileReport(data, title='Relatório - Pandas Profiling', html={'style':{'full_width':True}})"
      ],
      "execution_count": 0,
      "outputs": []
    },
    {
      "cell_type": "code",
      "metadata": {
        "id": "8AKVbZEOZwTH",
        "colab_type": "code",
        "colab": {}
      },
      "source": [
        "profile"
      ],
      "execution_count": 0,
      "outputs": []
    },
    {
      "cell_type": "markdown",
      "metadata": {
        "id": "vouXoELXBMab",
        "colab_type": "text"
      },
      "source": [
        "**Observações**\n",
        "\n",
        "*   *O coeficiente de correlação varia de `-1` a `1`. \n",
        "Se valor é próximo de 1, isto significa que existe uma forte correlação positiva entre as variáveis. Quando esse número é próximo de -1, as variáveis tem uma forte correlação negativa.*\n",
        "\n",
        "*   *A relatório que executamos acima nos mostra que a nossa variável alvo (**MEDV**) é fortemente correlacionada com as variáveis `LSTAT` e `RM`*\n",
        "\n",
        "*   *`RAD` e `TAX` são fortemente correlacionadas, podemos remove-las do nosso modelo para evitar a multi-colinearidade.*\n",
        "\n",
        "*   *O mesmo acontece com as colunas `DIS` and `AGE` a qual tem a correlação de -0.75*\n",
        "\n",
        "*   *A coluna `ZN` possui 73% de valores zero.*"
      ]
    },
    {
      "cell_type": "code",
      "metadata": {
        "id": "amne_skzYMdj",
        "colab_type": "code",
        "colab": {}
      },
      "source": [
        "# salvando o relatório no disco\n",
        "profile.to_file(output_file=\"Relatorio01.html\")"
      ],
      "execution_count": 0,
      "outputs": []
    }
  ]
}